{
 "cells": [
  {
   "cell_type": "code",
   "execution_count": 41,
   "id": "68655fa6-f6d4-4f95-a19c-896e8d3a9f53",
   "metadata": {},
   "outputs": [
    {
     "data": {
      "text/plain": [
       "False"
      ]
     },
     "execution_count": 41,
     "metadata": {},
     "output_type": "execute_result"
    }
   ],
   "source": [
    "# for i in range(100):\n",
    "#     if i == 2:\n",
    "#         print(i)\n",
    "#         continue\n",
    "#     for j in range(2,i):\n",
    "#         if i % j == 0:\n",
    "#             break\n",
    "#     else:\n",
    "#         print(i)\n",
    "\n",
    "range(2,1) == True"
   ]
  },
  {
   "cell_type": "code",
   "execution_count": 149,
   "id": "1c345904-a919-44ce-9568-b6a2887655dc",
   "metadata": {},
   "outputs": [
    {
     "name": "stdout",
     "output_type": "stream",
     "text": [
      "['a', 'b', 'c', 'd', 'e', 'f', 'g', 'h', 'i', 'j', 'k', 'l', 'm', 'n', 'o', 'p', 'q', 'r', 's', 't', 'u', 'v', 'w', 'x', 'y', 'z']\n"
     ]
    }
   ],
   "source": [
    "print([chr(i) for i in range(,91)])"
   ]
  },
  {
   "cell_type": "code",
   "execution_count": 15,
   "id": "800bfc1f-8f77-4740-ba56-0e58bb41704e",
   "metadata": {},
   "outputs": [
    {
     "name": "stdout",
     "output_type": "stream",
     "text": [
      "Help on method_descriptor:\n",
      "\n",
      "sort(self, /, *, key=None, reverse=False)\n",
      "    Sort the list in ascending order and return None.\n",
      "    \n",
      "    The sort is in-place (i.e. the list itself is modified) and stable (i.e. the\n",
      "    order of two equal elements is maintained).\n",
      "    \n",
      "    If a key function is given, apply it once to each list item and sort them,\n",
      "    ascending or descending, according to their function values.\n",
      "    \n",
      "    The reverse flag can be set to sort in descending order.\n",
      "\n"
     ]
    }
   ],
   "source": [
    "help(list.sort)"
   ]
  },
  {
   "cell_type": "code",
   "execution_count": 150,
   "id": "11e7a02f-ff74-456b-b61a-1179c31f849a",
   "metadata": {},
   "outputs": [
    {
     "name": "stdout",
     "output_type": "stream",
     "text": [
      "['旰', '㧚', '숅', '鎖', 'ϖ', '祹', '充', '\\u0a7e', '\\udea5', '窵']\n"
     ]
    }
   ],
   "source": [
    "from random import randrange\n",
    "print([chr(randrange(0,60000))for i in range(10)])"
   ]
  },
  {
   "cell_type": "code",
   "execution_count": 12,
   "id": "35b6445c-c4df-4152-9a80-5ed977e52a7a",
   "metadata": {},
   "outputs": [
    {
     "name": "stdout",
     "output_type": "stream",
     "text": [
      "[9, 16, 25]\n"
     ]
    }
   ],
   "source": [
    "a = list(map( \\\n",
    "    lambda x\n",
    "             :\n",
    "             x**2\n",
    "    ,[3,4,5]))\n",
    "print(a)"
   ]
  }
 ],
 "metadata": {
  "kernelspec": {
   "display_name": "Python 3 (ipykernel)",
   "language": "python",
   "name": "python3"
  },
  "language_info": {
   "codemirror_mode": {
    "name": "ipython",
    "version": 3
   },
   "file_extension": ".py",
   "mimetype": "text/x-python",
   "name": "python",
   "nbconvert_exporter": "python",
   "pygments_lexer": "ipython3",
   "version": "3.8.5"
  }
 },
 "nbformat": 4,
 "nbformat_minor": 5
}
